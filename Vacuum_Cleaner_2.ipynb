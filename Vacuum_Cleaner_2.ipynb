{
  "nbformat": 4,
  "nbformat_minor": 0,
  "metadata": {
    "colab": {
      "provenance": [],
      "authorship_tag": "ABX9TyMdXKEiv4uMgaEXXko4nnCh",
      "include_colab_link": true
    },
    "kernelspec": {
      "name": "python3",
      "display_name": "Python 3"
    },
    "language_info": {
      "name": "python"
    }
  },
  "cells": [
    {
      "cell_type": "markdown",
      "metadata": {
        "id": "view-in-github",
        "colab_type": "text"
      },
      "source": [
        "<a href=\"https://colab.research.google.com/github/Jeevanthikashyap/AI/blob/main/Vacuum_Cleaner_2.ipynb\" target=\"_parent\"><img src=\"https://colab.research.google.com/assets/colab-badge.svg\" alt=\"Open In Colab\"/></a>"
      ]
    },
    {
      "cell_type": "markdown",
      "source": [
        "JEEVANTHI KASHYAP 1BM21CS080"
      ],
      "metadata": {
        "id": "wGAkrKo4xdGm"
      }
    },
    {
      "cell_type": "code",
      "execution_count": 3,
      "metadata": {
        "colab": {
          "base_uri": "https://localhost:8080/"
        },
        "id": "rurVkNqMtfrA",
        "outputId": "00adb809-3210-4220-ab89-e55b486331a8"
      },
      "outputs": [
        {
          "output_type": "stream",
          "name": "stdout",
          "text": [
            "Enter Location of Vacuumb\n",
            "Enter status of b1\n",
            "Enter status of other room1\n",
            "Initial Location Condition{'A': '0', 'B': '0'}\n",
            "Vacuum is placed in location B\n",
            "Location B is Dirty.\n",
            "COST for CLEANING 1\n",
            "Location B has been Cleaned.\n",
            "Location A is Dirty.\n",
            "Moving LEFT to the Location A. \n",
            "COST for moving LEFT2\n",
            "COST for SUCK 3\n",
            "Location A has been Cleaned.\n",
            "GOAL STATE: \n",
            "{'A': '0', 'B': '0'}\n",
            "Performance Measurement: 3\n"
          ]
        }
      ],
      "source": [
        "def clean():\n",
        "        # 0 indicates Clean and 1 indicates Dirty\n",
        "    goal = {'A': '0', 'B': '0'}\n",
        "    cost = 0\n",
        "\n",
        "    loc_input = input(\"Enter Location of Vacuum\")\n",
        "    status_input1 = input(\"Enter status of \" + loc_input)\n",
        "    status_input2 = input(\"Enter status of other room\")\n",
        "    print(\"Initial Location Condition\" + str(goal))\n",
        "\n",
        "    if loc_input == 'A':\n",
        "        print(\"Vacuum is placed in Location A\")\n",
        "        if status_input1 == '1':\n",
        "            print(\"Location A is Dirty.\")\n",
        "            goal['A'] = '0'\n",
        "            cost += 1 #cost for suck\n",
        "            print(\"Cost for CLEANING A \" + str(cost))\n",
        "            print(\"Location A has been Cleaned.\")\n",
        "\n",
        "            if status_input2 == '1':\n",
        "\n",
        "                print(\"Location B is Dirty.\")\n",
        "                print(\"Moving right to the Location B. \")\n",
        "                cost += 1\n",
        "                print(\"COST for moving RIGHT\" + str(cost))\n",
        "                goal['B'] = '0'\n",
        "                cost += 1 #cost for suck\n",
        "                print(\"COST for SUCK \" + str(cost))\n",
        "                print(\"Location B has been Cleaned. \")\n",
        "            else:\n",
        "                print(\"No action\" + str(cost))\n",
        "\n",
        "                print(\"Location B is already clean.\")\n",
        "\n",
        "        if status_input1 == '0':\n",
        "            print(\"Location A is already clean \")\n",
        "            if status_input2 == '1':\n",
        "                print(\"Location B is Dirty.\")\n",
        "                print(\"Moving RIGHT to the Location B. \")\n",
        "                cost += 1\n",
        "                print(\"COST for moving RIGHT \" + str(cost))\n",
        "\n",
        "                goal['B'] = '0'\n",
        "                cost += 1\n",
        "                print(\"Cost for SUCK\" + str(cost))\n",
        "                print(\"Location B has been Cleaned. \")\n",
        "            else:\n",
        "                print(\"No action \" + str(cost))\n",
        "                print(cost)\n",
        "\n",
        "                print(\"Location B is already clean.\")\n",
        "\n",
        "    else:\n",
        "        print(\"Vacuum is placed in location B\")\n",
        "\n",
        "        if status_input1 == '1':\n",
        "            print(\"Location B is Dirty.\")\n",
        "\n",
        "            goal['B'] = '0'\n",
        "            cost += 1\n",
        "            print(\"COST for CLEANING \" + str(cost))\n",
        "            print(\"Location B has been Cleaned.\")\n",
        "\n",
        "            if status_input2 == '1':\n",
        "\n",
        "                print(\"Location A is Dirty.\")\n",
        "                print(\"Moving LEFT to the Location A. \")\n",
        "                cost += 1\n",
        "                print(\"COST for moving LEFT\" + str(cost))\n",
        "\n",
        "                goal['A'] = '0'\n",
        "                cost += 1\n",
        "                print(\"COST for SUCK \" + str(cost))\n",
        "                print(\"Location A has been Cleaned.\")\n",
        "\n",
        "        else:\n",
        "            print(cost)\n",
        "\n",
        "            print(\"Location B is already clean.\")\n",
        "\n",
        "            if status_input2 == '1':\n",
        "                print(\"Location A is Dirty.\")\n",
        "                print(\"Moving LEFT to the Location A. \")\n",
        "                cost += 1\n",
        "                print(\"COST for moving LEFT \" + str(cost))\n",
        "\n",
        "                goal['A'] = '0'\n",
        "                cost += 1\n",
        "                print(\"Cost for SUCK \" + str(cost))\n",
        "                print(\"Location A has been Cleaned. \")\n",
        "            else:\n",
        "                print(\"No action \" + str(cost))\n",
        "\n",
        "                print(\"Location A is already clean.\")\n",
        "\n",
        "\n",
        "    print(\"GOAL STATE: \")\n",
        "    print(goal)\n",
        "    print(\"Performance Measurement: \" + str(cost))\n",
        "\n",
        "\n",
        "clean()"
      ]
    }
  ]
}