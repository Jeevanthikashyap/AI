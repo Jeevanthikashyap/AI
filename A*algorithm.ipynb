{
  "nbformat": 4,
  "nbformat_minor": 0,
  "metadata": {
    "colab": {
      "provenance": [],
      "authorship_tag": "ABX9TyO7nG5Ih46N4pdMQ2UanXN5",
      "include_colab_link": true
    },
    "kernelspec": {
      "name": "python3",
      "display_name": "Python 3"
    },
    "language_info": {
      "name": "python"
    }
  },
  "cells": [
    {
      "cell_type": "markdown",
      "metadata": {
        "id": "view-in-github",
        "colab_type": "text"
      },
      "source": [
        "<a href=\"https://colab.research.google.com/github/Jeevanthikashyap/AI/blob/main/A*algorithm.ipynb\" target=\"_parent\"><img src=\"https://colab.research.google.com/assets/colab-badge.svg\" alt=\"Open In Colab\"/></a>"
      ]
    },
    {
      "cell_type": "markdown",
      "source": [
        "JEEVANTHI KASHYAP 1BM21CS080"
      ],
      "metadata": {
        "id": "3bMnR5RkudFm"
      }
    },
    {
      "cell_type": "code",
      "execution_count": null,
      "metadata": {
        "colab": {
          "base_uri": "https://localhost:8080/"
        },
        "id": "B1TJ-KG4jkO8",
        "outputId": "b074dc71-ffa3-4231-df6f-841c11bf97b2"
      },
      "outputs": [
        {
          "output_type": "stream",
          "name": "stdout",
          "text": [
            "Level: 0\n",
            "\n",
            "\t\t1 2 5\n",
            "\t\t3 4 _\n",
            "\t\t6 7 8\n",
            "        \n",
            "Level: 1\n",
            "\n",
            "\t\t1 2 _\n",
            "\t\t3 4 5\n",
            "\t\t6 7 8\n",
            "        \n",
            "Level: 2\n",
            "\n",
            "\t\t1 _ 2\n",
            "\t\t3 4 5\n",
            "\t\t6 7 8\n",
            "        \n",
            "Level: 3\n",
            "\n",
            "\t\t_ 1 2\n",
            "\t\t3 4 5\n",
            "\t\t6 7 8\n",
            "        \n",
            "Success\n"
          ]
        }
      ],
      "source": [
        "def print_grid(src):  # print the grid\n",
        "    state = src.copy()\n",
        "    state[state.index(-1)] = '_'\n",
        "    print(\n",
        "        f\"\"\"\n",
        "\t\t{state[0]} {state[1]} {state[2]}\n",
        "\t\t{state[3]} {state[4]} {state[5]}\n",
        "\t\t{state[6]} {state[7]} {state[8]}\n",
        "        \"\"\"\n",
        "    )\n",
        "\n",
        "\n",
        "def h(state, target):\n",
        "    #Manhattan distance\n",
        "    dist = 0\n",
        "    for i in state:\n",
        "        d1, d2 = state.index(i), target.index(i)\n",
        "        x1, y1 = d1 % 3, d1 // 3\n",
        "        x2, y2 = d2 % 3, d2 // 3\n",
        "        dist += abs(x1-x2) + abs(y1-y2)\n",
        "    return dist\n",
        "\n",
        "\n",
        "def astar(src, target):  # a* algo\n",
        "    states = [src]\n",
        "    g = 0\n",
        "    visited_states = set()\n",
        "    while len(states):\n",
        "        print(f\"Level: {g}\")\n",
        "        moves = []\n",
        "        for state in states:\n",
        "            visited_states.add(tuple(state))\n",
        "            print_grid(state)\n",
        "            if state == target:\n",
        "                print(\"Success\")\n",
        "                return\n",
        "            moves += [move for move in possible_moves(\n",
        "                state, visited_states) if move not in moves]\n",
        "        costs = [g + h(move, target) for move in moves]  # fn=gn+hn\n",
        "        states = [moves[i]\n",
        "                  for i in range(len(moves)) if costs[i] == min(costs)]  # min cost\n",
        "        g += 1\n",
        "    print(\"No success\")\n",
        "\n",
        "\n",
        "def possible_moves(state, visited_states):\n",
        "    b = state.index(-1)\n",
        "    d = []\n",
        "    if 9 > b - 3 >= 0:\n",
        "        d += 'u'\n",
        "    if 9 > b + 3 >= 0:\n",
        "        d += 'd'\n",
        "    if b not in [2, 5, 8]:\n",
        "        d += 'r'\n",
        "    if b not in [0, 3, 6]:\n",
        "        d += 'l'\n",
        "    pos_moves = []\n",
        "    for move in d:\n",
        "        pos_moves.append(gen(state, move, b))\n",
        "    return [move for move in pos_moves if tuple(move) not in visited_states]\n",
        "\n",
        "\n",
        "def gen(state, direction, b):\n",
        "    temp = state.copy()\n",
        "    if direction == 'u':\n",
        "        temp[b-3], temp[b] = temp[b], temp[b-3]\n",
        "    if direction == 'd':\n",
        "        temp[b+3], temp[b] = temp[b], temp[b+3]\n",
        "    if direction == 'r':\n",
        "        temp[b+1], temp[b] = temp[b], temp[b+1]\n",
        "    if direction == 'l':\n",
        "        temp[b-1], temp[b] = temp[b], temp[b-1]\n",
        "    return temp\n",
        "\n",
        "\n",
        "src = [1, 2, 5, 3, 4, -1, 6, 7, 8]\n",
        "target = [-1, 1, 2, 3, 4, 5, 6, 7, 8]\n",
        "\n",
        "astar(src, target)"
      ]
    }
  ]
}