{
  "nbformat": 4,
  "nbformat_minor": 0,
  "metadata": {
    "colab": {
      "provenance": [],
      "authorship_tag": "ABX9TyNWjidajQl9kqcr9gc4YnRy",
      "include_colab_link": true
    },
    "kernelspec": {
      "name": "python3",
      "display_name": "Python 3"
    },
    "language_info": {
      "name": "python"
    }
  },
  "cells": [
    {
      "cell_type": "markdown",
      "metadata": {
        "id": "view-in-github",
        "colab_type": "text"
      },
      "source": [
        "<a href=\"https://colab.research.google.com/github/Jeevanthikashyap/AI/blob/main/8_PUZZLE.ipynb\" target=\"_parent\"><img src=\"https://colab.research.google.com/assets/colab-badge.svg\" alt=\"Open In Colab\"/></a>"
      ]
    },
    {
      "cell_type": "markdown",
      "source": [
        "JEEVANTHI KASHYAP 1BM21CS080"
      ],
      "metadata": {
        "id": "y9mMJKsQRHU_"
      }
    },
    {
      "cell_type": "code",
      "execution_count": 1,
      "metadata": {
        "colab": {
          "base_uri": "https://localhost:8080/"
        },
        "id": "NRRqilSwQpAl",
        "outputId": "025e8a41-44bb-4549-84c8-ceb2ae803d46"
      },
      "outputs": [
        {
          "output_type": "stream",
          "name": "stdout",
          "text": [
            "[1, 2, 3]\n",
            "[4, 5, 6]\n",
            "[0, 7, 8]\n",
            "-----------\n",
            "[1, 2, 3]\n",
            "[0, 5, 6]\n",
            "[4, 7, 8]\n",
            "-----------\n",
            "[1, 2, 3]\n",
            "[4, 5, 6]\n",
            "[7, 0, 8]\n",
            "-----------\n",
            "[0, 2, 3]\n",
            "[1, 5, 6]\n",
            "[4, 7, 8]\n",
            "-----------\n",
            "[1, 2, 3]\n",
            "[5, 0, 6]\n",
            "[4, 7, 8]\n",
            "-----------\n",
            "[1, 2, 3]\n",
            "[4, 0, 6]\n",
            "[7, 5, 8]\n",
            "-----------\n",
            "[1, 2, 3]\n",
            "[4, 5, 6]\n",
            "[7, 8, 0]\n",
            "-----------\n",
            "Success\n"
          ]
        }
      ],
      "source": [
        "def solve_8_puzzle(initial, goal):\n",
        "    queue = []\n",
        "    queue.append(initial)\n",
        "    visited = []\n",
        "\n",
        "    while len(queue) > 0:\n",
        "        current_state = queue.pop(0)\n",
        "        display(current_state)\n",
        "\n",
        "        visited.append(current_state)\n",
        "\n",
        "        if current_state == goal:\n",
        "            print(\"Success\")\n",
        "            return\n",
        "\n",
        "        moves = possible_moves(current_state, visited)\n",
        "\n",
        "        for move in moves:\n",
        "            if move not in visited and move not in queue:\n",
        "                queue.append(move)\n",
        "\n",
        "    print(\"Failure: Target state not reached\")\n",
        "\n",
        "def display(state):\n",
        "    for i in range(0, 9, 3):\n",
        "        print(state[i:i + 3])\n",
        "    print(\"-----------\")\n",
        "\n",
        "def possible_moves(state, visited_states):\n",
        "    blank_space = state.index(0)\n",
        "    directions = []\n",
        "\n",
        "    if blank_space not in [0, 1, 2]:\n",
        "        directions.append('u')\n",
        "    if blank_space not in [6, 7, 8]:\n",
        "        directions.append('d')\n",
        "    if blank_space not in [0, 3, 6]:\n",
        "        directions.append('l')\n",
        "    if blank_space not in [2, 5, 8]:\n",
        "        directions.append('r')\n",
        "\n",
        "    poss_moves = []\n",
        "\n",
        "    for direction in directions:\n",
        "        poss_moves.append(generate(state, direction, blank_space))\n",
        "\n",
        "    return [move for move in poss_moves if move not in visited_states]\n",
        "\n",
        "def generate(state, direction, blank_space):\n",
        "    temp = state.copy()\n",
        "\n",
        "    if direction == 'u':\n",
        "        temp[blank_space - 3], temp[blank_space] = temp[blank_space], temp[blank_space - 3]\n",
        "    elif direction == 'd':\n",
        "        temp[blank_space + 3], temp[blank_space] = temp[blank_space], temp[blank_space + 3]\n",
        "    elif direction == 'l':\n",
        "        temp[blank_space - 1], temp[blank_space] = temp[blank_space], temp[blank_space - 1]\n",
        "    elif direction == 'r':\n",
        "        temp[blank_space + 1], temp[blank_space] = temp[blank_space], temp[blank_space + 1]\n",
        "\n",
        "    return temp\n",
        "\n",
        "initial = [1, 2, 3, 4, 5, 6, 0, 7, 8]\n",
        "goal = [1, 2, 3, 4, 5, 6, 7, 8, 0]\n",
        "solve_8_puzzle(initial, goal)\n"
      ]
    }
  ]
}