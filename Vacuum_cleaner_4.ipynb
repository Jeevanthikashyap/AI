{
  "nbformat": 4,
  "nbformat_minor": 0,
  "metadata": {
    "colab": {
      "provenance": [],
      "authorship_tag": "ABX9TyP8py4o5Zvr7sYRq2JDgBzQ",
      "include_colab_link": true
    },
    "kernelspec": {
      "name": "python3",
      "display_name": "Python 3"
    },
    "language_info": {
      "name": "python"
    }
  },
  "cells": [
    {
      "cell_type": "markdown",
      "metadata": {
        "id": "view-in-github",
        "colab_type": "text"
      },
      "source": [
        "<a href=\"https://colab.research.google.com/github/Jeevanthikashyap/AI/blob/main/Vacuum_cleaner_4.ipynb\" target=\"_parent\"><img src=\"https://colab.research.google.com/assets/colab-badge.svg\" alt=\"Open In Colab\"/></a>"
      ]
    },
    {
      "cell_type": "markdown",
      "source": [
        "JEEVANTHI KASHYAP 1BM21CS080"
      ],
      "metadata": {
        "id": "tjDHiolq3Mnt"
      }
    },
    {
      "cell_type": "code",
      "execution_count": 9,
      "metadata": {
        "id": "R6Nkxd9k98RZ",
        "outputId": "2431f51f-a2ea-4e79-e26f-fb9cf67209e8",
        "colab": {
          "base_uri": "https://localhost:8080/"
        }
      },
      "outputs": [
        {
          "output_type": "stream",
          "name": "stdout",
          "text": [
            " >1<   1  \n",
            "  0    1  \n",
            "\n",
            "  0   >1< \n",
            "  0    1  \n",
            "\n",
            "  0    0  \n",
            "  0   >1< \n",
            "\n",
            "  0    0  \n",
            "  0    0  \n",
            "\n"
          ]
        }
      ],
      "source": [
        "def notClean(floor):\n",
        "    for row in floor:\n",
        "        if 1 in row:\n",
        "            return True\n",
        "    return False\n",
        "\n",
        "\n",
        "def clean(floor, i, j):\n",
        "    goRight = True\n",
        "\n",
        "    while notClean(floor):\n",
        "        # Print Floor\n",
        "        print_floor(floor, i, j)\n",
        "        # Clean\n",
        "        if floor[i][j]:\n",
        "            floor[i][j] = 0\n",
        "        # Decide Direction and Move (Zig-Zag)\n",
        "        if j == len(floor[i])-1 and goRight:\n",
        "            i, right = (i + 1) % len(floor), False\n",
        "            continue\n",
        "        elif j == 0 and not goRight:\n",
        "            i, right = (i + 1) % len(floor), True\n",
        "            continue\n",
        "        else:\n",
        "            j = j + 1 if goRight else j - 1\n",
        "\n",
        "    # Cleaned Floor\n",
        "    print_floor(floor, -1, -1)\n",
        "\n",
        "\n",
        "def print_floor(floor, curr_row, curr_col):\n",
        "    for row in range(len(floor)):\n",
        "        for col in range(len(floor[row])):\n",
        "            if (curr_row, curr_col) == (row, col):\n",
        "                print(\" >\", floor[row][col], \"< \", end='', sep='')\n",
        "            else:\n",
        "                print(\"  \", floor[row][col], \"  \", end='', sep='')\n",
        "        print()\n",
        "    print()\n",
        "\n",
        "\n",
        "floor = [[1, 1],\n",
        "        [0, 1]]\n",
        "\n",
        "clean(floor, 0, 0)"
      ]
    }
  ]
}