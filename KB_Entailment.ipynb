{
  "nbformat": 4,
  "nbformat_minor": 0,
  "metadata": {
    "colab": {
      "provenance": [],
      "authorship_tag": "ABX9TyP+KCFR4/clWoQeN2619OvZ",
      "include_colab_link": true
    },
    "kernelspec": {
      "name": "python3",
      "display_name": "Python 3"
    },
    "language_info": {
      "name": "python"
    }
  },
  "cells": [
    {
      "cell_type": "markdown",
      "metadata": {
        "id": "view-in-github",
        "colab_type": "text"
      },
      "source": [
        "<a href=\"https://colab.research.google.com/github/Jeevanthikashyap/AI/blob/main/KB_Entailment.ipynb\" target=\"_parent\"><img src=\"https://colab.research.google.com/assets/colab-badge.svg\" alt=\"Open In Colab\"/></a>"
      ]
    },
    {
      "cell_type": "markdown",
      "source": [
        "JEEVANTHI KASHYAP 1BM21CS080"
      ],
      "metadata": {
        "id": "YL6g0PRsOBQ-"
      }
    },
    {
      "cell_type": "code",
      "execution_count": null,
      "metadata": {
        "id": "5W_rnSf6CSOU"
      },
      "outputs": [],
      "source": [
        "variable = {\"p\": 0, \"q\": 1, \"r\": 2}\n",
        "priority = {\"~\": 3, \"v\": 1, \"^\": 2}\n",
        "\n",
        "\n",
        "def _eval(i, val1, val2):\n",
        "    if i == \"^\":\n",
        "        return val2 and val1\n",
        "    return val2 or val1\n",
        "\n",
        "\n",
        "def isOperand(c):\n",
        "    return c.isalpha() and c != \"v\"\n",
        "\n",
        "\n",
        "def isLeftParanthesis(c):\n",
        "    return c == \"(\"\n",
        "\n",
        "\n",
        "def isRightParanthesis(c):\n",
        "    return c == \")\"\n",
        "\n",
        "\n",
        "def isEmpty(stack):\n",
        "    return len(stack) == 0\n",
        "\n",
        "\n",
        "def peek(stack):\n",
        "    return stack[-1]\n",
        "\n",
        "\n",
        "def hasLessOrEqualPriority(c1, c2):\n",
        "    try:\n",
        "        return priority[c1] <= priority[c2]\n",
        "    except KeyError:\n",
        "        return False\n",
        "\n",
        "\n",
        "def toPostfix(infix):\n",
        "    stack = []\n",
        "    postfix = \"\"\n",
        "    for c in infix:\n",
        "        if isOperand(c):\n",
        "            postfix += c\n",
        "        else:\n",
        "            if isLeftParanthesis(c):\n",
        "                stack.append(c)\n",
        "            elif isRightParanthesis(c):\n",
        "                operator = stack.pop()\n",
        "                while not isLeftParanthesis(operator):\n",
        "                    postfix += operator\n",
        "                    operator = stack.pop()\n",
        "            else:\n",
        "                while (not isEmpty(stack)) and hasLessOrEqualPriority(c, peek(stack)):\n",
        "                    postfix += stack.pop()\n",
        "                stack.append(c)\n",
        "    while not isEmpty(stack):\n",
        "        postfix += stack.pop()\n",
        "\n",
        "    return postfix\n",
        "\n",
        "\n",
        "def evaluatePostfix(exp, comb):\n",
        "    stack = []\n",
        "    for i in exp:\n",
        "        if isOperand(i):\n",
        "            stack.append(comb[variable[i]])\n",
        "        elif i == \"~\":\n",
        "            val1 = stack.pop()\n",
        "            stack.append(not val1)\n",
        "        else:\n",
        "            val1 = stack.pop()\n",
        "            val2 = stack.pop()\n",
        "            stack.append(_eval(i, val2, val1))\n",
        "    return stack.pop()\n",
        "\n",
        "\n",
        "def CheckEntailment():\n",
        "    kb = input(\"Enter the knowledge base: \")\n",
        "    query = input(\"Enter the query: \")\n",
        "    combinations = [\n",
        "        [True, True, True],\n",
        "        [True, True, False],\n",
        "        [True, False, True],\n",
        "        [True, False, False],\n",
        "        [False, True, True],\n",
        "        [False, True, False],\n",
        "        [False, False, True],\n",
        "        [False, False, False],\n",
        "    ]\n",
        "    postfix_kb = toPostfix(kb)\n",
        "    postfix_q = toPostfix(query)\n",
        "    for combination in combinations:\n",
        "        eval_kb = evaluatePostfix(postfix_kb, combination)\n",
        "        eval_q = evaluatePostfix(postfix_q, combination)\n",
        "        print(combination, \":kb=\", eval_kb, \":q=\", eval_q)\n",
        "        if eval_kb == True:\n",
        "            if eval_q == False:\n",
        "                print(\"Doesn't entail!! \\U0001F92A\")\n",
        "                return False\n",
        "    print(\"Entails\")\n",
        "\n",
        "\n",
        "if __name__ == \"__main__\":\n",
        "    CheckEntailment()"
      ]
    }
  ]
}