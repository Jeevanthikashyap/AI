{
  "nbformat": 4,
  "nbformat_minor": 0,
  "metadata": {
    "colab": {
      "provenance": [],
      "authorship_tag": "ABX9TyPdf91ndP14POf+Hfjbs3TE",
      "include_colab_link": true
    },
    "kernelspec": {
      "name": "python3",
      "display_name": "Python 3"
    },
    "language_info": {
      "name": "python"
    }
  },
  "cells": [
    {
      "cell_type": "markdown",
      "metadata": {
        "id": "view-in-github",
        "colab_type": "text"
      },
      "source": [
        "<a href=\"https://colab.research.google.com/github/Jeevanthikashyap/AI/blob/main/KB_Resolution.ipynb\" target=\"_parent\"><img src=\"https://colab.research.google.com/assets/colab-badge.svg\" alt=\"Open In Colab\"/></a>"
      ]
    },
    {
      "cell_type": "markdown",
      "source": [
        "JEEVANTHI KASHYAP 1BM21CS080"
      ],
      "metadata": {
        "id": "4uiyPDsxOivD"
      }
    },
    {
      "cell_type": "code",
      "execution_count": 3,
      "metadata": {
        "id": "ogqm2TRBCcAW",
        "colab": {
          "base_uri": "https://localhost:8080/"
        },
        "outputId": "67b2ba35-1666-45f6-a952-e94a9ab00594"
      },
      "outputs": [
        {
          "output_type": "stream",
          "name": "stdout",
          "text": [
            "Enter the clauses separated by a space: p v ~q ~r v p ~q\n",
            "Enter the query: ~p\n",
            "Trying to prove (p)^(v)^(~q)^(~r)^(v)^(p)^(~q)^(~p) by contradiction....\n",
            "Knowledge Base entails the query, proved by resolution\n"
          ]
        }
      ],
      "source": [
        "def disjunctify(clauses):\n",
        "    disjuncts = []\n",
        "    for clause in clauses:\n",
        "        disjuncts.append(tuple(clause.split('v')))\n",
        "    return disjuncts\n",
        "\n",
        "def getResolvant(ci, cj, di, dj):\n",
        "    resolvant = list(ci) + list(cj)\n",
        "    resolvant.remove(di)\n",
        "    resolvant.remove(dj)\n",
        "    return tuple(resolvant)\n",
        "\n",
        "def resolve(ci, cj):\n",
        "    for di in ci:\n",
        "        for dj in cj:\n",
        "            if di == '~' + dj or dj == '~' + di:\n",
        "                return getResolvant(ci, cj, di, dj)\n",
        "\n",
        "def checkResolution(clauses, query):\n",
        "    clauses += [query if query.startswith('~') else '~' + query]\n",
        "    proposition = '^'.join(['(' + clause + ')' for clause in clauses])\n",
        "    print(f'Trying to prove {proposition} by contradiction....')\n",
        "\n",
        "    clauses = disjunctify(clauses)\n",
        "    resolved = False\n",
        "    new = set()\n",
        "\n",
        "    while not resolved:\n",
        "        n = len(clauses)\n",
        "        pairs = [(clauses[i], clauses[j]) for i in range(n) for j in range(i + 1, n)]\n",
        "        for (ci, cj) in pairs:\n",
        "            resolvant = resolve(ci, cj)\n",
        "            if not resolvant:\n",
        "                resolved = True\n",
        "                break\n",
        "            new = new.union(set(resolvant))\n",
        "        if new.issubset(set(clauses)):\n",
        "            break\n",
        "        for clause in new:\n",
        "            if clause not in clauses:\n",
        "                clauses.append(clause)\n",
        "\n",
        "    if resolved:\n",
        "        print('Knowledge Base entails the query, proved by resolution')\n",
        "    else:\n",
        "        print(\"Knowledge Base doesn't entail the query, no empty set produced after resolution\")\n",
        "\n",
        "clauses = input('Enter the clauses separated by a space: ').split()\n",
        "query = input('Enter the query: ')\n",
        "\n",
        "checkResolution(clauses, query)"
      ]
    }
  ]
}